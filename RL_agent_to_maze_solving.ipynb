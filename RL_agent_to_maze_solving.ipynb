{
  "nbformat": 4,
  "nbformat_minor": 0,
  "metadata": {
    "colab": {
      "provenance": []
    },
    "kernelspec": {
      "name": "python3",
      "display_name": "Python 3"
    },
    "language_info": {
      "name": "python"
    }
  },
  "cells": [
    {
      "cell_type": "code",
      "execution_count": null,
      "metadata": {
        "id": "j0g5ehcF-C35",
        "colab": {
          "base_uri": "https://localhost:8080/"
        },
        "outputId": "2fff03eb-9aee-44f5-e5ea-c28c7be55803"
      },
      "outputs": [
        {
          "output_type": "stream",
          "name": "stdout",
          "text": [
            "You have imported all the libraries.\n"
          ]
        }
      ],
      "source": [
        "# Provides support for large, multi-dimensional arrays and matrices, as well as a wide range of mathematical functions\n",
        "# We will be using this library to initialize our maze.\n",
        "import numpy as np\n",
        "\n",
        "# A 2D plotting library that enables users to create a wide variety of high-quality plots and visualizations.\n",
        "# We will be using this library to display our maze in a visually appealing way.\n",
        "import matplotlib.pyplot as plt\n",
        "\n",
        "# A library that provides various functions for working with time-related operations. We will be using this library\n",
        "# to give us time to look at how the agent is progressing through the maze\n",
        "import time\n",
        "\n",
        "print(\"You have imported all the libraries.\")"
      ]
    },
    {
      "cell_type": "markdown",
      "source": [
        "##**Creating the Maze Environment**"
      ],
      "metadata": {
        "id": "7OXdlVHe-O9a"
      }
    },
    {
      "cell_type": "code",
      "source": [
        "class Maze:\n",
        "    def __init__(self, maze, start_position, goal_position):\n",
        "        # Initialize Maze object with the provided maze, start_position, and goal position\n",
        "        self.maze = maze\n",
        "        self.maze_height = maze_layout.shape[0] # Get the height of the maze (number of rows)\n",
        "        self.maze_width = maze_layout.shape[1]  # Get the width of the maze (number of columns)\n",
        "        self.start_position = start_position    # Set the start position in the maze as a tuple (x, y)\n",
        "        self.goal_position = goal_position      # Set the goal position in the maze as a tuple (x, y)\n",
        "\n",
        "    def show_maze(self):\n",
        "        # Visualize the maze using Matplotlib\n",
        "        plt.figure(figsize=(5,5))\n",
        "\n",
        "        # Display the maze as an image in grayscale ('gray' colormap)\n",
        "        plt.imshow(self.maze, cmap='gray')\n",
        "\n",
        "        # Add start and goal positions as 'S' and 'G'\n",
        "        plt.text(self.start_position[0], self.start_position[1], 'S', ha='center', va='center', color='red', fontsize=20)\n",
        "        plt.text(self.goal_position[0], self.goal_position[1], 'G', ha='center', va='center', color='green', fontsize=20)\n",
        "\n",
        "        # Remove ticks and labels from the axes\n",
        "        plt.xticks([]), plt.yticks([])\n",
        "\n",
        "        # Show the plot\n",
        "        plt.show()\n",
        "\n",
        "print(\"This code block has been run and the Maze class is now available for use.\")"
      ],
      "metadata": {
        "id": "BrfkCY7w-OY3",
        "colab": {
          "base_uri": "https://localhost:8080/"
        },
        "outputId": "a8de16dc-7397-49a8-dc08-c58dddf0b984"
      },
      "execution_count": null,
      "outputs": [
        {
          "output_type": "stream",
          "name": "stdout",
          "text": [
            "This code block has been run and the Maze class is now available for use.\n"
          ]
        }
      ]
    },
    {
      "cell_type": "code",
      "source": [
        "# Create any maze layout you'd like, here's an example\n",
        "maze_layout = np.array([\n",
        "    [0, 1, 0, 0, 0],\n",
        "    [0, 1, 1, 1, 0],\n",
        "    [0, 0, 0, 1, 0],\n",
        "    [1, 1, 0, 1, 1],\n",
        "    [0, 0, 0, 0, 0]\n",
        "])\n",
        "\n",
        "# Create an instance of the maze and set the starting and ending positions\n",
        "maze = Maze(maze_layout, (0, 0), (4, 4))\n",
        "# Visualize the maze\n",
        "maze.show_maze()"
      ],
      "metadata": {
        "id": "fXssFI9q_gic",
        "colab": {
          "base_uri": "https://localhost:8080/",
          "height": 422
        },
        "outputId": "153bf181-0bdd-40e3-d59a-1b6a23017754"
      },
      "execution_count": null,
      "outputs": [
        {
          "output_type": "display_data",
          "data": {
            "text/plain": [
              "<Figure size 500x500 with 1 Axes>"
            ],
            "image/png": "[encoded data removed]"
          },
          "metadata": {}
        }
      ]
    },
    {
      "cell_type": "markdown",
      "source": [
        "##**Implementing the Agent**"
      ],
      "metadata": {
        "id": "59R0EpWI_mQt"
      }
    },
    {
      "cell_type": "code",
      "source": [
        "# Actions the agent can take: Up, Down, Left, Right. Each action is represented as a tuple of two values: (row_change, column_change)\n",
        "actions = [(-1, 0), # Up: Moving one step up, reducing the row index by 1\n",
        "          (1, 0),   # Down: Moving on step down, increasing the row index by 1\n",
        "          (0, -1),  # Left: Moving one step to the left, reducing the column index by 1\n",
        "          (0, 1)]   # Right: Moving one step to the right, increasing the column index by 1\n",
        "\n",
        "class QLearningAgent:\n",
        "    def __init__(self, maze, learning_rate=0.1, discount_factor=0.9, exploration_start=1.0, exploration_end=0.01, num_episodes=100):\n",
        "        # Initialize the Q-learning agent with a Q-table containing all zeros\n",
        "        # where the rows represent states, columns represent actions, and the third dimension is for each action (Up, Down, Left, Right)\n",
        "        self.q_table = np.zeros((maze.maze_height, maze.maze_width, 4)) # 4 actions: Up, Down, Left, Right\n",
        "        self.learning_rate = learning_rate          # Learning rate controls how much the agent updates its Q-values after each action\n",
        "        self.discount_factor = discount_factor      # Discount factor determines the importance of future rewards in the agent's decisions\n",
        "        self.exploration_start = exploration_start  # Exploration rate determines the likelihood of the agent taking a random action\n",
        "        self.exploration_end = exploration_end\n",
        "        self.num_episodes = num_episodes\n",
        "\n",
        "    def get_exploration_rate(self, current_episode):\n",
        "        # Calculate the current exploration rate using the given formula\n",
        "        exploration_rate = self.exploration_start * (self.exploration_end / self.exploration_start) ** (current_episode / self.num_episodes)\n",
        "        return exploration_rate\n",
        "\n",
        "    def get_action(self, state, current_episode): # State is tuple representing where agent is in maze (x, y)\n",
        "        exploration_rate = self.get_exploration_rate(current_episode)\n",
        "        # Select an action for the given state either randomly (exploration) or using the Q-table (exploitation)\n",
        "        if np.random.rand() < exploration_rate:\n",
        "            return np.random.randint(4) # Choose a random action (index 0 to 3, representing Up, Down, Left, Right)\n",
        "        else:\n",
        "            return np.argmax(self.q_table[state]) # Choose the action with the highest Q-value for the given state\n",
        "\n",
        "    def update_q_table(self, state, action, next_state, reward):\n",
        "        # Find the best next action by selecting the action that maximizes the Q-value for the next state\n",
        "        best_next_action = np.argmax(self.q_table[next_state])\n",
        "\n",
        "        # Get the current Q-value for the current state and action\n",
        "        current_q_value = self.q_table[state][action]\n",
        "\n",
        "        # Q-value update using Q-learning formula\n",
        "        new_q_value = current_q_value + self.learning_rate * (reward + self.discount_factor * self.q_table[next_state][best_next_action] - current_q_value)\n",
        "\n",
        "        # Update the Q-table with the new Q-value for the current state and action\n",
        "        self.q_table[state][action] = new_q_value\n",
        "\n",
        "print(\"This code block has been run and the QLearningAgent class is now available for use.\")"
      ],
      "metadata": {
        "id": "rPZ-3Uh3_oJN",
        "colab": {
          "base_uri": "https://localhost:8080/"
        },
        "outputId": "710aff33-87a1-416b-f5fb-86c91f330e82"
      },
      "execution_count": null,
      "outputs": [
        {
          "output_type": "stream",
          "name": "stdout",
          "text": [
            "This code block has been run and the QLearningAgent class is now available for use.\n"
          ]
        }
      ]
    },
    {
      "cell_type": "markdown",
      "source": [
        "##**Defining the Reward System**"
      ],
      "metadata": {
        "id": "4FbuYR2CAn1_"
      }
    },
    {
      "cell_type": "code",
      "source": [
        "goal_reward = 100\n",
        "wall_penalty = -10\n",
        "step_penalty = -1\n",
        "\n",
        "print(\"The reward system has been defined.\")"
      ],
      "metadata": {
        "id": "ImjtvwVSAwTa",
        "colab": {
          "base_uri": "https://localhost:8080/"
        },
        "outputId": "e428be21-d918-4aed-c018-c67bd373d16e"
      },
      "execution_count": null,
      "outputs": [
        {
          "output_type": "stream",
          "name": "stdout",
          "text": [
            "The reward system has been defined.\n"
          ]
        }
      ]
    },
    {
      "cell_type": "markdown",
      "source": [
        "## **Testing the Agent**"
      ],
      "metadata": {
        "id": "O5_ZzP1ZBB_D"
      }
    },
    {
      "cell_type": "code",
      "source": [
        "# This function simulates the agent's movements in the maze for a single episode.\n",
        "\n",
        "def finish_episode(agent, maze, current_episode, train=True):\n",
        "    # Initialize the agent's current state to the maze's start position\n",
        "    current_state = maze.start_position\n",
        "    is_done = False\n",
        "    episode_reward = 0\n",
        "    episode_step = 0\n",
        "    path = [current_state]\n",
        "\n",
        "    # Continue until the episode is done\n",
        "    while not is_done:\n",
        "        # Get the agent's action for the current state using its Q-table\n",
        "        action = agent.get_action(current_state, current_episode)\n",
        "\n",
        "        # Compute the next state based on the chosen action\n",
        "        next_state = (current_state[0] + actions[action][0], current_state[1] + actions[action][1])\n",
        "\n",
        "        # Check if the next state is out of bounds or hitting a wall\n",
        "        if next_state[0] < 0 or next_state[0] >= maze.maze_height or next_state[1] < 0 or next_state[1] >= maze.maze_width or maze.maze[next_state[1]][next_state[0]] == 1:\n",
        "            reward = wall_penalty\n",
        "            next_state = current_state\n",
        "        # Check if the agent reached the goal:\n",
        "        elif next_state == (maze.goal_position):\n",
        "            path.append(current_state)\n",
        "            reward = goal_reward\n",
        "            is_done = True\n",
        "        # The agent takes a step but hasn't reached the goal yet\n",
        "        else:\n",
        "            path.append(current_state)\n",
        "            reward = step_penalty\n",
        "\n",
        "        # Update the cumulative reward and step count for the episode\n",
        "        episode_reward += reward\n",
        "        episode_step += 1\n",
        "\n",
        "        # Update the agent's Q-table if training is enabled\n",
        "        if train == True:\n",
        "            agent.update_q_table(current_state, action, next_state, reward)\n",
        "\n",
        "        # Move to the next state for the next iteration\n",
        "        current_state = next_state\n",
        "\n",
        "    # Return the cumulative episode reward, total number of steps, and the agent's path during the simulation\n",
        "    return episode_reward, episode_step, path\n",
        "\n",
        "print(\"This code block has been run and the finish_episode function is now available for use.\")"
      ],
      "metadata": {
        "id": "uaHLrAd0ov3Q",
        "colab": {
          "base_uri": "https://localhost:8080/"
        },
        "outputId": "3c0b1c41-998b-4a58-b3dd-8cbaa5630a5c"
      },
      "execution_count": null,
      "outputs": [
        {
          "output_type": "stream",
          "name": "stdout",
          "text": [
            "This code block has been run and the finish_episode function is now available for use.\n"
          ]
        }
      ]
    },
    {
      "cell_type": "code",
      "source": [
        "# This function evaluates an agent's performance in the maze. The function simulates the agent's movements in the maze,\n",
        "# updating its state, accumulating the rewards, and determining the end of the episode when the agent reaches the goal position.\n",
        "# The agent's learned path is then printed along with the total number of steps taken and the total reward obtained during the\n",
        "# simulation. The function also visualizes the maze with the agent's path marked in blue for better visualization of the\n",
        "# agent's trajectory.\n",
        "\n",
        "def test_agent(agent, maze, num_episodes=1):\n",
        "    # Simulate the agent's behavior in the maze for the specified number of episodes\n",
        "    episode_reward, episode_step, path = finish_episode(agent, maze, num_episodes, train=False)\n",
        "\n",
        "    # Print the learned path of the agent\n",
        "    print(\"Learned Path:\")\n",
        "    for row, col in path:\n",
        "        print(f\"({row}, {col})-> \", end='')\n",
        "    print(\"Goal!\")\n",
        "\n",
        "    print(\"Number of steps:\", episode_step)\n",
        "    print(\"Total reward:\", episode_reward)\n",
        "\n",
        "    # Clear the existing plot if any\n",
        "    if plt.gcf().get_axes():\n",
        "        plt.cla()\n",
        "\n",
        "    # Visualize the maze using matplotlib\n",
        "    plt.figure(figsize=(5,5))\n",
        "    plt.imshow(maze.maze, cmap='gray')\n",
        "\n",
        "    # Mark the start position (red 'S') and goal position (green 'G') in the maze\n",
        "    plt.text(maze.start_position[0], maze.start_position[1], 'S', ha='center', va='center', color='red', fontsize=20)\n",
        "    plt.text(maze.goal_position[0], maze.goal_position[1], 'G', ha='center', va='center', color='green', fontsize=20)\n",
        "\n",
        "    # Mark the agent's path with blue '#' symbols\n",
        "    for position in path:\n",
        "        plt.text(position[0], position[1], \"@\", va='center', color='blue', fontsize=20)\n",
        "\n",
        "    # Remove axis ticks and grid lines for a cleaner visualization\n",
        "    plt.xticks([]), plt.yticks([])\n",
        "    plt.grid(color='black', linewidth=2)\n",
        "    plt.show()\n",
        "\n",
        "    return episode_step, episode_reward\n",
        "\n",
        "agent = QLearningAgent(maze)\n",
        "# Test the agent using the test_agent function\n",
        "test_agent(agent, maze)"
      ],
      "metadata": {
        "id": "k0iqqGUaAyto",
        "colab": {
          "base_uri": "https://localhost:8080/",
          "height": 546
        },
        "outputId": "e4f0859b-f96f-4427-ea9f-0010512d1c2e"
      },
      "execution_count": null,
      "outputs": [
        {
          "output_type": "stream",
          "name": "stdout",
          "text": [
            "Learned Path:\n",
            "(0, 0)-> (0, 0)-> (0, 1)-> (0, 0)-> (0, 1)-> (0, 0)-> (0, 1)-> (0, 2)-> (0, 1)-> (0, 2)-> (1, 2)-> (0, 2)-> (0, 1)-> (0, 2)-> (0, 1)-> (0, 2)-> (0, 1)-> (0, 2)-> (1, 2)-> (2, 2)-> (2, 3)-> (2, 2)-> (1, 2)-> (0, 2)-> (1, 2)-> (2, 2)-> (2, 3)-> (2, 2)-> (1, 2)-> (0, 2)-> (0, 1)-> (0, 2)-> (0, 1)-> (0, 0)-> (0, 1)-> (0, 0)-> (0, 1)-> (0, 2)-> (0, 1)-> (0, 0)-> (0, 1)-> (0, 2)-> (0, 1)-> (0, 2)-> (0, 1)-> (0, 0)-> (0, 1)-> (0, 2)-> (0, 1)-> (0, 2)-> (0, 1)-> (0, 0)-> (0, 1)-> (0, 2)-> (0, 1)-> (0, 0)-> (0, 1)-> (0, 0)-> (0, 1)-> (0, 0)-> (0, 1)-> (0, 0)-> (0, 1)-> (0, 0)-> (0, 1)-> (0, 0)-> (0, 1)-> (0, 2)-> (0, 1)-> (0, 2)-> (0, 1)-> (0, 2)-> (0, 1)-> (0, 0)-> (0, 1)-> (0, 2)-> (0, 1)-> (0, 0)-> (0, 1)-> (0, 2)-> (1, 2)-> (0, 2)-> (0, 1)-> (0, 0)-> (0, 1)-> (0, 0)-> (0, 1)-> (0, 2)-> (1, 2)-> (0, 2)-> (0, 1)-> (0, 0)-> (0, 1)-> (0, 0)-> (0, 1)-> (0, 0)-> (0, 1)-> (0, 2)-> (1, 2)-> (0, 2)-> (1, 2)-> (2, 2)-> (1, 2)-> (2, 2)-> (1, 2)-> (0, 2)-> (1, 2)-> (2, 2)-> (1, 2)-> (0, 2)-> (1, 2)-> (2, 2)-> (1, 2)-> (0, 2)-> (0, 1)-> (0, 0)-> (0, 1)-> (0, 2)-> (1, 2)-> (2, 2)-> (1, 2)-> (0, 2)-> (0, 1)-> (0, 2)-> (0, 1)-> (0, 0)-> (0, 1)-> (0, 2)-> (1, 2)-> (0, 2)-> (0, 1)-> (0, 2)-> (1, 2)-> (0, 2)-> (1, 2)-> (0, 2)-> (0, 1)-> (0, 0)-> (0, 1)-> (0, 0)-> (0, 1)-> (0, 0)-> (0, 1)-> (0, 2)-> (1, 2)-> (2, 2)-> (1, 2)-> (0, 2)-> (0, 1)-> (0, 0)-> (0, 1)-> (0, 2)-> (1, 2)-> (2, 2)-> (1, 2)-> (0, 2)-> (0, 1)-> (0, 2)-> (1, 2)-> (0, 2)-> (0, 1)-> (0, 2)-> (1, 2)-> (0, 2)-> (1, 2)-> (2, 2)-> (2, 3)-> (2, 4)-> (2, 3)-> (2, 4)-> (3, 4)-> Goal!\n",
            "Number of steps: 407\n",
            "Total reward: -2439\n"
          ]
        },
        {
          "output_type": "display_data",
          "data": {
            "text/plain": [
              "<Figure size 640x480 with 0 Axes>"
            ]
          },
          "metadata": {}
        },
        {
          "output_type": "display_data",
          "data": {
            "text/plain": [
              "<Figure size 500x500 with 1 Axes>"
            ],
            "image/png": "[encoded data removed]"
          },
          "metadata": {}
        },
        {
          "output_type": "execute_result",
          "data": {
            "text/plain": [
              "(407, -2439)"
            ]
          },
          "metadata": {},
          "execution_count": 11
        }
      ]
    },
    {
      "cell_type": "markdown",
      "source": [
        "##**Setting Up the Reinforcement Learning Loop**"
      ],
      "metadata": {
        "id": "GGFiGxS9OORv"
      }
    },
    {
      "cell_type": "code",
      "source": [
        "def train_agent(agent, maze, num_episodes=100):\n",
        "    # Lists to store the data for plotting\n",
        "    episode_rewards = []\n",
        "    episode_steps = []\n",
        "\n",
        "    # Loop over the specified number of episodes\n",
        "    for episode in range(num_episodes):\n",
        "        episode_reward, episode_step, path = finish_episode(agent, maze, episode, train=True)\n",
        "\n",
        "        # Store the episode's cumulative reward and the number of steps taken in their respective lists\n",
        "        episode_rewards.append(episode_reward)\n",
        "        episode_steps.append(episode_step)\n",
        "\n",
        "    # Plotting the data after training is completed\n",
        "    plt.figure(figsize=(10, 5))\n",
        "\n",
        "    plt.subplot(1, 2, 1)\n",
        "    plt.plot(episode_rewards)\n",
        "    plt.xlabel('Episode')\n",
        "    plt.ylabel('Cumulative Reward')\n",
        "    plt.title('Reward per Episode')\n",
        "\n",
        "    average_reward = sum(episode_rewards) / len(episode_rewards)\n",
        "    print(f\"The average reward is: {average_reward}\")\n",
        "\n",
        "    plt.subplot(1, 2, 2)\n",
        "    plt.plot(episode_steps)\n",
        "    plt.xlabel('Episode')\n",
        "    plt.ylabel('Steps Taken')\n",
        "    plt.ylim(0, 100)\n",
        "    plt.title('Steps per Episode')\n",
        "\n",
        "    average_steps = sum(episode_steps) / len(episode_steps)\n",
        "    print(f\"The average steps is: {average_steps}\")\n",
        "\n",
        "    plt.tight_layout()\n",
        "    plt.show()\n",
        "\n",
        "print(\"This code block has been run and the train_agent function is now available for use.\")"
      ],
      "metadata": {
        "id": "vdCGxQmOOfph",
        "colab": {
          "base_uri": "https://localhost:8080/"
        },
        "outputId": "dad415e9-4af5-4ed9-94e4-fec88feba526"
      },
      "execution_count": null,
      "outputs": [
        {
          "output_type": "stream",
          "name": "stdout",
          "text": [
            "This code block has been run and the train_agent function is now available for use.\n"
          ]
        }
      ]
    },
    {
      "cell_type": "markdown",
      "source": [
        "##**Training the Agent**"
      ],
      "metadata": {
        "id": "_jrZKOEZOiKH"
      }
    },
    {
      "cell_type": "code",
      "source": [
        "# Training the agent\n",
        "train_agent(agent, maze, num_episodes=100)"
      ],
      "metadata": {
        "id": "kdDChsZ5Ok2k",
        "colab": {
          "base_uri": "https://localhost:8080/",
          "height": 542
        },
        "outputId": "fa6cb301-1000-40a2-de88-ae84bd2ea13e"
      },
      "execution_count": null,
      "outputs": [
        {
          "output_type": "stream",
          "name": "stdout",
          "text": [
            "The average reward is: 43.12\n",
            "The average steps is: 16.03\n"
          ]
        },
        {
          "output_type": "display_data",
          "data": {
            "text/plain": [
              "<Figure size 1000x500 with 2 Axes>"
            ],
            "image/png": "[encoded data removed]"
          },
          "metadata": {}
        }
      ]
    },
    {
      "cell_type": "code",
      "source": [
        "# Testing the agent after training\n",
        "test_agent(agent, maze, num_episodes=100)"
      ],
      "metadata": {
        "id": "0t9kcynWO1Hw",
        "colab": {
          "base_uri": "https://localhost:8080/",
          "height": 526
        },
        "outputId": "cfd7c4bd-0001-47b2-98b1-f17e838ddc4a"
      },
      "execution_count": null,
      "outputs": [
        {
          "output_type": "stream",
          "name": "stdout",
          "text": [
            "Learned Path:\n",
            "(0, 0)-> (0, 0)-> (0, 1)-> (0, 2)-> (1, 2)-> (2, 2)-> (2, 3)-> (2, 4)-> (3, 4)-> Goal!\n",
            "Number of steps: 8\n",
            "Total reward: 93\n"
          ]
        },
        {
          "output_type": "display_data",
          "data": {
            "text/plain": [
              "<Figure size 640x480 with 0 Axes>"
            ]
          },
          "metadata": {}
        },
        {
          "output_type": "display_data",
          "data": {
            "text/plain": [
              "<Figure size 500x500 with 1 Axes>"
            ],
            "image/png": "[encoded data removed]"
          },
          "metadata": {}
        },
        {
          "output_type": "execute_result",
          "data": {
            "text/plain": [
              "(8, 93)"
            ]
          },
          "metadata": {},
          "execution_count": 14
        }
      ]
    }
  ]
}