{
 "cells": [
  {
   "cell_type": "code",
   "execution_count": 1,
   "id": "58ecc415",
   "metadata": {},
   "outputs": [],
   "source": [
    "import numpy as np"
   ]
  },
  {
   "cell_type": "code",
   "execution_count": 2,
   "id": "b796a05c",
   "metadata": {},
   "outputs": [],
   "source": [
    "gamma = 0.75 #discount factor\n",
    "alpha = 0.9 #learning rate"
   ]
  },
  {
   "cell_type": "code",
   "execution_count": 4,
   "id": "a186ca66",
   "metadata": {},
   "outputs": [],
   "source": [
    "#define states\n",
    "location_to_state = {\n",
    "    'L1': 0,\n",
    "    'L2': 1,\n",
    "    'L3': 2,\n",
    "    'L4': 3,\n",
    "    'L5': 4,\n",
    "    'L6': 5,\n",
    "    'L7': 6,\n",
    "    'L8': 7,\n",
    "    'L9': 8,\n",
    "}"
   ]
  },
  {
   "cell_type": "code",
   "execution_count": 5,
   "id": "fc305567",
   "metadata": {},
   "outputs": [],
   "source": [
    "#define actions\n",
    "actions = [0,1,2,3,4,5,6,7,8]"
   ]
  },
  {
   "cell_type": "code",
   "execution_count": 6,
   "id": "fa8ec292",
   "metadata": {},
   "outputs": [],
   "source": [
    "rewards = np.array([[0,1,0,0,0,0,0,0,0],\n",
    "                   [1,0,1,0,0,0,0,0,0],\n",
    "                   [0,1,0,0,0,1,0,0,0],\n",
    "                   [0,0,0,0,0,0,1,0,0],\n",
    "                   [0,1,0,0,0,0,0,1,0],\n",
    "                   [0,0,1,0,0,0,0,0,0],\n",
    "                   [0,0,0,1,0,0,0,1,0],\n",
    "                   [0,0,0,0,1,0,1,0,1],\n",
    "                   [0,0,0,0,0,0,0,1,0]])"
   ]
  },
  {
   "cell_type": "code",
   "execution_count": 7,
   "id": "924b48da",
   "metadata": {},
   "outputs": [],
   "source": [
    "#maps indeces to locations\n",
    "state_to_location = dict((state,location) for location,state in location_to_state.items())"
   ]
  },
  {
   "cell_type": "code",
   "execution_count": 14,
   "id": "d5de5329",
   "metadata": {},
   "outputs": [],
   "source": [
    "def get_optimal_route(start_location,end_location):\n",
    "    #copy the rewards matrix to new matrix\n",
    "    rewards_new = np.copy(rewards)\n",
    "    #get the ending state corresponding to the ending location as given\n",
    "    ending_state = location_to_state[end_location]\n",
    "    #automatically set the priority of the given ending state to the highest one\n",
    "    rewards_new[ending_state,ending_state] = 999\n",
    "    \n",
    "    #----Q-Learning algorithm----\n",
    "    #initializing Q-values\n",
    "    Q = np.array(np.zeros([9,9]))\n",
    "    \n",
    "    #Q learning process\n",
    "    for i in range(1000):\n",
    "        current_state = np.random.randint(0,9)\n",
    "        playable_actions = []\n",
    "        for j in range(9):\n",
    "            if rewards_new[current_state,j] >0:\n",
    "                playable_actions.append(j)\n",
    "                \n",
    "        next_state = np.random.choice(playable_actions)\n",
    "        TD = rewards_new[current_state,next_state] + gamma* Q[next_state, np.argmax(Q[next_state,])] - Q[current_state,next_state]\n",
    "        Q[current_state,next_state] += alpha*TD\n",
    "        \n",
    "    route = [start_location]\n",
    "    next_location = start_location\n",
    "    \n",
    "    while(next_location != end_location):\n",
    "        starting_state = location_to_state[start_location]\n",
    "        next_state = np.argmax(Q[starting_state,])\n",
    "        next_location = state_to_location[next_state]\n",
    "        route.append(next_location)\n",
    "        start_location = next_location\n",
    "    return route"
   ]
  },
  {
   "cell_type": "code",
   "execution_count": 16,
   "id": "9983a108",
   "metadata": {},
   "outputs": [
    {
     "name": "stdout",
     "output_type": "stream",
     "text": [
      "['L8', 'L5', 'L2', 'L3']\n"
     ]
    }
   ],
   "source": [
    "print(get_optimal_route('L8','L3'))"
   ]
  },
  {
   "cell_type": "code",
   "execution_count": null,
   "id": "f2bc8204",
   "metadata": {},
   "outputs": [],
   "source": []
  }
 ],
 "metadata": {
  "kernelspec": {
   "display_name": "Python 3 (ipykernel)",
   "language": "python",
   "name": "python3"
  },
  "language_info": {
   "codemirror_mode": {
    "name": "ipython",
    "version": 3
   },
   "file_extension": ".py",
   "mimetype": "text/x-python",
   "name": "python",
   "nbconvert_exporter": "python",
   "pygments_lexer": "ipython3",
   "version": "3.11.5"
  }
 },
 "nbformat": 4,
 "nbformat_minor": 5
}
